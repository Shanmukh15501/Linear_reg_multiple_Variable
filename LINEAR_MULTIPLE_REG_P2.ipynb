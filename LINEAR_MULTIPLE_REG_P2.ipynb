{
 "cells": [
  {
   "cell_type": "code",
   "execution_count": 2,
   "id": "588a8401",
   "metadata": {},
   "outputs": [],
   "source": [
    "import pandas as pd\n",
    "import matplotlib.pyplot as plt\n",
    "import numpy as np\n",
    "from word2number import w2n\n",
    "from sklearn.model_selection import train_test_split\n",
    "from sklearn.linear_model import LinearRegression\n",
    "from sklearn.impute import SimpleImputer\n",
    "import seaborn as sns\n",
    "from numpy import random"
   ]
  },
  {
   "cell_type": "code",
   "execution_count": 63,
   "id": "a87632fc",
   "metadata": {},
   "outputs": [
    {
     "name": "stdout",
     "output_type": "stream",
     "text": [
      "experience         0\n",
      "test_score         0\n",
      "interview_score    0\n",
      "Salary             0\n",
      "dtype: int64\n",
      "    experience  test_score  interview_score  Salary\n",
      "0            3    8.000000              8.0   50000\n",
      "1            2    5.000000              4.0   22000\n",
      "2            3    6.000000              5.0   30000\n",
      "3            5    9.000000              9.0   55000\n",
      "4            6    3.000000              5.0   13000\n",
      "5            1    2.000000              1.0    9000\n",
      "6           10    8.000000              6.0   48000\n",
      "7            1    1.000000              2.0     500\n",
      "8           15    9.000000              9.0   60000\n",
      "9           13    7.500000              7.5   45000\n",
      "10          10    5.441176              5.0   25000\n",
      "11           1    1.000000              1.0     500\n",
      "12           1    3.000000              6.0   25000\n",
      "13           4    5.000000              4.0   36000\n",
      "14           6    5.000000              6.0    8000\n",
      "15          11    9.000000              8.0   55000\n",
      "16          12    9.000000              9.0   58000\n",
      "17           1    2.000000              6.0   12000\n"
     ]
    }
   ],
   "source": [
    "data=pd.read_csv(\"D:/PYTHON/MachineLearning/DataSets/salary_predict_dataset.csv\")\n",
    "data['experience_null']=np.where(data['Salary']<=20000,'one',np.where(data['Salary']>=40000,'three','two'))\n",
    "data.experience=data.experience.fillna(data.experience_null)\n",
    "data['experience']=data['experience'].apply(w2n.word_to_num)\n",
    "\n",
    "\n",
    "\n",
    "imputer  = SimpleImputer(missing_values=np.nan, strategy='mean')\n",
    "ss=data[['test_score']].values.reshape(-1,1)\n",
    "data['test_score']=imputer .fit(ss)\n",
    "data['test_score'] = imputer.transform(ss)\n",
    "\n",
    "\n",
    "imputer1=SimpleImputer(missing_values=np.nan,strategy='median')\n",
    "ss1=data['interview_score'].values.reshape(-1,1)\n",
    "data['interview_score']=imputer1.fit(ss1)\n",
    "data['interview_score']=imputer1.transform(ss1)\n",
    "data.drop(columns=['experience_null'],inplace=True)\n",
    "\n",
    "\n",
    "print(data.isnull().sum()) \n",
    "print(data)\n"
   ]
  },
  {
   "cell_type": "code",
   "execution_count": null,
   "id": "f9e00a92",
   "metadata": {},
   "outputs": [],
   "source": [
    "\n"
   ]
  },
  {
   "cell_type": "code",
   "execution_count": 71,
   "id": "d5a5e227",
   "metadata": {},
   "outputs": [
    {
     "data": {
      "text/plain": [
       "LinearRegression()"
      ]
     },
     "execution_count": 71,
     "metadata": {},
     "output_type": "execute_result"
    }
   ],
   "source": [
    "X=np.array(data[['experience','test_score','interview_score']])\n",
    "y=np.array((data.Salary))\n",
    "x_train, x_test, y_train, y_test = train_test_split(X, y, test_size=1/3)\n",
    "reg=LinearRegression()\n",
    "reg.fit(x_train,y_train)\n"
   ]
  },
  {
   "cell_type": "code",
   "execution_count": 72,
   "id": "0d29722d",
   "metadata": {},
   "outputs": [
    {
     "name": "stdout",
     "output_type": "stream",
     "text": [
      "Variance score: for training dataset 0.914354742821954\n",
      "Variance score: for test dataset 0.8083865308056181\n"
     ]
    }
   ],
   "source": [
    "print('Variance score: for training dataset {}'.format(reg.score(x_train, y_train))) \n",
    "print('Variance score: for test dataset {}'.format(reg.score(x_test, y_test))) "
   ]
  },
  {
   "cell_type": "code",
   "execution_count": 74,
   "id": "2f8d4771",
   "metadata": {},
   "outputs": [],
   "source": [
    "data['Predicted_salary']=pd.DataFrame(reg.predict(X))"
   ]
  },
  {
   "cell_type": "code",
   "execution_count": 67,
   "id": "8efb4c87",
   "metadata": {},
   "outputs": [
    {
     "name": "stdout",
     "output_type": "stream",
     "text": [
      "    experience  test_score  interview_score  Salary  Predicted_salary\n",
      "0            3    8.000000              8.0   50000      53650.609624\n",
      "1            2    5.000000              4.0   22000      29945.955526\n",
      "2            3    6.000000              5.0   30000      37140.266834\n",
      "3            5    9.000000              9.0   55000      60360.606366\n",
      "4            6    3.000000              5.0   13000      16110.718638\n",
      "5            1    2.000000              1.0    9000       7394.392470\n",
      "6           10    8.000000              6.0   48000      47954.225576\n",
      "7            1    1.000000              2.0     500       2021.948680\n",
      "8           15    9.000000              9.0   60000      55517.460703\n",
      "9           13    7.500000              7.5   45000      44968.151024\n",
      "10          10    5.441176              5.0   25000      30103.442464\n",
      "11           1    1.000000              1.0     500        868.857638\n",
      "12           1    3.000000              6.0   25000      19685.382511\n",
      "13           4    5.000000              4.0   36000      28977.326394\n",
      "14           6    5.000000              6.0    8000      30314.879345\n",
      "15          11    9.000000              8.0   55000      56301.627926\n",
      "16          12    9.000000              9.0   58000      56970.404402\n",
      "17           1    2.000000              6.0   12000      13159.847679\n"
     ]
    }
   ],
   "source": [
    "print(data)"
   ]
  },
  {
   "cell_type": "code",
   "execution_count": 76,
   "id": "55a8ade2",
   "metadata": {},
   "outputs": [
    {
     "data": {
      "text/plain": [
       "[<matplotlib.lines.Line2D at 0x1a72328f0d0>]"
      ]
     },
     "execution_count": 76,
     "metadata": {},
     "output_type": "execute_result"
    },
    {
     "data": {
      "image/png": "[encoded data removed]",
      "text/plain": [
       "<Figure size 432x288 with 1 Axes>"
      ]
     },
     "metadata": {
      "needs_background": "light"
     },
     "output_type": "display_data"
    }
   ],
   "source": [
    "plt.plot(data.Salary)\n",
    "plt.plot(data.Predicted_salary)"
   ]
  },
  {
   "cell_type": "code",
   "execution_count": null,
   "id": "c2b15a17",
   "metadata": {},
   "outputs": [],
   "source": []
  }
 ],
 "metadata": {
  "kernelspec": {
   "display_name": "Python 3 (ipykernel)",
   "language": "python",
   "name": "python3"
  },
  "language_info": {
   "codemirror_mode": {
    "name": "ipython",
    "version": 3
   },
   "file_extension": ".py",
   "mimetype": "text/x-python",
   "name": "python",
   "nbconvert_exporter": "python",
   "pygments_lexer": "ipython3",
   "version": "3.9.7"
  }
 },
 "nbformat": 4,
 "nbformat_minor": 5
}
